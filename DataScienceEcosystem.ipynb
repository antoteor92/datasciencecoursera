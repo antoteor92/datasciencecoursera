{
 "cells": [
  {
   "cell_type": "markdown",
   "id": "9a6c0ad9-c286-4c85-a8c9-1e47f47551c1",
   "metadata": {
    "tags": []
   },
   "source": [
    "# Data Science tools and Ecosystem"
   ]
  },
  {
   "cell_type": "markdown",
   "id": "ed246b5a-c1cc-4e88-a6eb-0cad75f98747",
   "metadata": {},
   "source": [
    "In this notebook, Data Science Tools and Ecosystem are summarized."
   ]
  },
  {
   "cell_type": "markdown",
   "id": "2f572f32-7509-4a33-9d21-0c9ada20447e",
   "metadata": {},
   "source": [
    "**Objectives:**\n",
    "- List popular languages for Data Science"
   ]
  },
  {
   "cell_type": "markdown",
   "id": "8839f30a-d22a-49b4-b6cf-187668a6c77d",
   "metadata": {},
   "source": [
    "Some of popular languages that Data Scientists use are:\n",
    "<ol>\n",
    " <li>Python</li>\n",
    " <li>R</li>\n",
    " <li>Julia</li>\n",
    "</ol>"
   ]
  },
  {
   "cell_type": "markdown",
   "id": "2db977e7-f5e7-4317-b78a-dbc252f70877",
   "metadata": {},
   "source": [
    "Some of the commonly used libraries used by Data Scientists include:\n",
    "<ol>\n",
    " <li>Pandas</li>\n",
    " <li>Numpy</li>\n",
    " <li>TensorFlow</li>\n",
    "</ol>"
   ]
  },
  {
   "cell_type": "markdown",
   "id": "644088fa-4a4d-44cd-8842-88dfdfb9b648",
   "metadata": {},
   "source": [
    "|Data Science Tools|\n",
    "|:----------------:|\n",
    "|RStudio|\n",
    "|JupyterLab|\n",
    "|Spyder|"
   ]
  },
  {
   "cell_type": "markdown",
   "id": "c6b3c214-5ca9-43be-b459-aaae7a96c6b9",
   "metadata": {},
   "source": [
    "### Below are a few examples of evaluating arithmetic expressions in Python"
   ]
  },
  {
   "cell_type": "code",
   "execution_count": 1,
   "id": "3f70795b-9266-4eea-abce-d9cae444a210",
   "metadata": {
    "tags": []
   },
   "outputs": [
    {
     "data": {
      "text/plain": [
       "17"
      ]
     },
     "execution_count": 1,
     "metadata": {},
     "output_type": "execute_result"
    }
   ],
   "source": [
    "#This is a simple arithmetic expression to multiply the add integers.\n",
    "3*4+5"
   ]
  },
  {
   "cell_type": "code",
   "execution_count": 2,
   "id": "c1e78074-a677-40b5-997f-bbdbb8fe59ec",
   "metadata": {
    "tags": []
   },
   "outputs": [
    {
     "data": {
      "text/plain": [
       "3.3333333333333335"
      ]
     },
     "execution_count": 2,
     "metadata": {},
     "output_type": "execute_result"
    }
   ],
   "source": [
    "#This will convert 200 minutes to hours by dividing by 60\n",
    "200/60"
   ]
  },
  {
   "cell_type": "markdown",
   "id": "26cf6bda-aea9-4dfe-9adc-02e7be77d66b",
   "metadata": {},
   "source": [
    "## Antonella Teora"
   ]
  }
 ],
 "metadata": {
  "kernelspec": {
   "display_name": "Python",
   "language": "python",
   "name": "conda-env-python-py"
  },
  "language_info": {
   "codemirror_mode": {
    "name": "ipython",
    "version": 3
   },
   "file_extension": ".py",
   "mimetype": "text/x-python",
   "name": "python",
   "nbconvert_exporter": "python",
   "pygments_lexer": "ipython3",
   "version": "3.7.12"
  }
 },
 "nbformat": 4,
 "nbformat_minor": 5
}
